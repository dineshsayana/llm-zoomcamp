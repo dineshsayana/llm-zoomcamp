{
 "cells": [
  {
   "cell_type": "code",
   "execution_count": 7,
   "id": "d4421ead-1f24-4321-85fa-91e1599486fb",
   "metadata": {},
   "outputs": [],
   "source": [
    "from openai import OpenAI"
   ]
  },
  {
   "cell_type": "code",
   "execution_count": 8,
   "id": "a869b4d9-ebb0-4bde-ac48-1d1846d493e3",
   "metadata": {},
   "outputs": [],
   "source": [
    "client = OpenAI()"
   ]
  },
  {
   "cell_type": "code",
   "execution_count": 9,
   "id": "ef11a5d4-3cff-441d-a4f1-1848f88db94c",
   "metadata": {},
   "outputs": [],
   "source": [
    "response = client.responses.create(\n",
    "    model = \"gpt-4.1\",\n",
    "    input = [\n",
    "        {\n",
    "          \"role\": \"user\",\n",
    "          \"content\": \"Is it too late to join the course ?\"\n",
    "        }\n",
    "    ]\n",
    ")"
   ]
  },
  {
   "cell_type": "code",
   "execution_count": 10,
   "id": "457238f7-5238-4025-a706-a546bdba0e19",
   "metadata": {},
   "outputs": [
    {
     "data": {
      "text/plain": [
       "'Could you clarify which course you’re referring to? If you provide the course name or details, I can help you find information about enrollment deadlines and whether it’s still possible to join.'"
      ]
     },
     "execution_count": 10,
     "metadata": {},
     "output_type": "execute_result"
    }
   ],
   "source": [
    "response.output_text"
   ]
  },
  {
   "cell_type": "code",
   "execution_count": null,
   "id": "10d072d6-dfda-4b26-a13a-1c412df86b7f",
   "metadata": {},
   "outputs": [],
   "source": []
  }
 ],
 "metadata": {
  "kernelspec": {
   "display_name": "Python 3 (ipykernel)",
   "language": "python",
   "name": "python3"
  },
  "language_info": {
   "codemirror_mode": {
    "name": "ipython",
    "version": 3
   },
   "file_extension": ".py",
   "mimetype": "text/x-python",
   "name": "python",
   "nbconvert_exporter": "python",
   "pygments_lexer": "ipython3",
   "version": "3.12.1"
  }
 },
 "nbformat": 4,
 "nbformat_minor": 5
}
